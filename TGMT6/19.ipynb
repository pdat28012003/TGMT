{
 "cells": [
  {
   "cell_type": "code",
   "execution_count": 1,
   "id": "46225d30-b911-4781-92b2-f43a345f905c",
   "metadata": {},
   "outputs": [
    {
     "name": "stdout",
     "output_type": "stream",
     "text": [
      "Collecting opencv-python\n",
      "  Downloading opencv_python-4.10.0.84-cp37-abi3-win_amd64.whl.metadata (20 kB)\n",
      "Requirement already satisfied: numpy>=1.21.2 in c:\\users\\dat\\anaconda3\\lib\\site-packages (from opencv-python) (1.26.4)\n",
      "Downloading opencv_python-4.10.0.84-cp37-abi3-win_amd64.whl (38.8 MB)\n",
      "   ---------------------------------------- 0.0/38.8 MB ? eta -:--:--\n",
      "   - -------------------------------------- 1.6/38.8 MB 10.5 MB/s eta 0:00:04\n",
      "   ---- ----------------------------------- 4.5/38.8 MB 14.9 MB/s eta 0:00:03\n",
      "   --------- ------------------------------ 9.2/38.8 MB 16.3 MB/s eta 0:00:02\n",
      "   ------------- -------------------------- 13.4/38.8 MB 17.1 MB/s eta 0:00:02\n",
      "   ---------------- ----------------------- 16.0/38.8 MB 16.2 MB/s eta 0:00:02\n",
      "   -------------------- ------------------- 19.9/38.8 MB 16.5 MB/s eta 0:00:02\n",
      "   ------------------------ --------------- 23.9/38.8 MB 16.8 MB/s eta 0:00:01\n",
      "   -------------------------- ------------- 26.0/38.8 MB 16.0 MB/s eta 0:00:01\n",
      "   ------------------------------ --------- 29.9/38.8 MB 16.1 MB/s eta 0:00:01\n",
      "   --------------------------------- ------ 32.8/38.8 MB 16.0 MB/s eta 0:00:01\n",
      "   ------------------------------------- -- 36.4/38.8 MB 16.1 MB/s eta 0:00:01\n",
      "   ---------------------------------------- 38.8/38.8 MB 15.6 MB/s eta 0:00:00\n",
      "Installing collected packages: opencv-python\n",
      "Successfully installed opencv-python-4.10.0.84\n"
     ]
    }
   ],
   "source": [
    "!pip install opencv-python"
   ]
  },
  {
   "cell_type": "code",
   "execution_count": 1,
   "id": "f98c16ff-721e-4fee-8fac-d5971f85c887",
   "metadata": {},
   "outputs": [],
   "source": [
    "import cv2 "
   ]
  },
  {
   "cell_type": "code",
   "execution_count": 3,
   "id": "bd9f3195-3b96-4eb8-bf05-805608261a5d",
   "metadata": {},
   "outputs": [],
   "source": [
    "path = 'C:/Users/dat/Downloads/picture/002.jpg'"
   ]
  },
  {
   "cell_type": "code",
   "execution_count": 5,
   "id": "c5427bab-bba2-4acc-9019-dcbadd22fe5f",
   "metadata": {},
   "outputs": [],
   "source": [
    "img = cv2.imread(path)\n",
    "cv2.imshow(\"Animal\",img)"
   ]
  },
  {
   "cell_type": "code",
   "execution_count": 7,
   "id": "daa4c538-4fc9-4651-b5e1-673bba3433db",
   "metadata": {},
   "outputs": [],
   "source": [
    "import cv2\n",
    "\n",
    "# Đọc ảnh\n",
    "img = cv2.imread('C:/Users/dat/Downloads/picture/002.jpg')\n",
    "\n",
    "# Hiển thị ảnh\n",
    "cv2.imshow(\"Animal\", img)\n",
    "\n",
    "# Đợi cho đến khi có phím bấm bất kỳ để đóng cửa sổ\n",
    "cv2.waitKey(0)\n",
    "cv2.destroyAllWindows()\n"
   ]
  },
  {
   "cell_type": "code",
   "execution_count": 5,
   "id": "51716dd5-b353-4500-9c6f-6c5d2da161bb",
   "metadata": {},
   "outputs": [],
   "source": [
    "import cv2\n",
    "\n",
    "# Đọc ảnh từ file\n",
    "img = cv2.imread('C:/Users/dat/Downloads/picture/002.jpg')\n",
    "\n",
    "# Kiểm tra nếu ảnh được tải thành công\n",
    "if img is not None:\n",
    "    # Tách kênh màu Blue, Green, Red (BGR)\n",
    "    b, g, r = cv2.split(img)\n",
    "\n",
    "    # Hiển thị ảnh gốc và từng kênh màu\n",
    "    cv2.imshow('Original Image', img)\n",
    "    cv2.imshow('Red Channel', r)\n",
    "    cv2.imshow('Green Channel', g)\n",
    "    cv2.imshow('Blue Channel', b)\n",
    "\n",
    "    # Đợi phím bấm để đóng các cửa sổ\n",
    "    cv2.waitKey(0)\n",
    "    cv2.destroyAllWindows()\n",
    "else:\n",
    "    print(\"Không thể tải ảnh.\")\n"
   ]
  },
  {
   "cell_type": "code",
   "execution_count": 7,
   "id": "f97a3702-67ea-4d2b-a853-81c505bd6fe4",
   "metadata": {},
   "outputs": [],
   "source": [
    "gray_img  = cv2.cvtColor(img,cv2.COLOR_BGR2GRAY)\n",
    "img_2 = cv2.cvtColor(img,cv2.COLOR_BGR2RGB)\n",
    "cv2.imshow('Window', img)\n",
    "cv2.imshow('gray_img', gray_img)\n",
    "cv2.imshow('img_2', img_2)\n",
    "# Chờ một khoảng thời gian\n",
    "cv2.waitKey(0)\n",
    "# Đóng window\n",
    "cv2.destroyAllWindows()"
   ]
  },
  {
   "cell_type": "code",
   "execution_count": 17,
   "id": "6aac3612-5dbd-484f-9167-f7681e152c62",
   "metadata": {},
   "outputs": [],
   "source": [
    "import cv2\n",
    "\n",
    "# Đọc ảnh từ file\n",
    "img = cv2.imread('C:/Users/dat/Downloads/picture/04.jpg')\n",
    "\n",
    "# Kiểm tra nếu ảnh được tải thành công\n",
    "if img is not None:\n",
    "    height, width, z = img.shape\n",
    "    quater_h = height // 2\n",
    "    quater_w = width // 2\n",
    "    green_color = (0, 255, 0)  # Màu xanh lá cây theo định dạng BGR\n",
    "\n",
    "    # Tạo một bản sao của ảnh gốc\n",
    "    img2 = img.copy()\n",
    "\n",
    "    # Gán màu xanh lá cho góc trên bên trái của ảnh\n",
    "    for y in range(quater_h):\n",
    "        for x in range(quater_w):\n",
    "            img2[y, x] = green_color  # Gán màu xanh lá cây\n",
    "\n",
    "    # Hiển thị ảnh gốc và ảnh đã chỉnh sửa\n",
    "    cv2.imshow('Original Image', img)\n",
    "    cv2.imshow('Modified Image', img2)\n",
    "\n",
    "    # Đợi phím bấm để đóng các cửa sổ\n",
    "    cv2.waitKey(0)\n",
    "    cv2.destroyAllWindows()\n",
    "else:\n",
    "    print(\"Không thể tải ảnh.\")\n"
   ]
  },
  {
   "cell_type": "code",
   "execution_count": 64,
   "id": "6a50b309-8417-485e-82d2-d634d91ac053",
   "metadata": {},
   "outputs": [],
   "source": [
    "import cv2\n",
    "import numpy as np\n",
    "\n",
    "\n",
    "img = np.ones((400, 600, 3), dtype=np.uint8) * 255\n",
    "tail_color = (0, 255, 255)  \n",
    "pts = np.array([[150, 160], [150, 240], [160, 200]], np.int32)\n",
    "cv2.fillPoly(img, [pts], tail_color)\n",
    "body_color = (255, 200, 0)  # Màu cam\n",
    "cv2.ellipse(img, (280, 200), (120, 50), 0, 0, 360, body_color, -1)\n",
    "eye_color = (0, 0, 0)  # Màu đen\n",
    "cv2.circle(img, (360, 180), 10, eye_color, -1)\n",
    "cv2.imshow('Fish', img)\n",
    "cv2.waitKey(0)\n",
    "cv2.destroyAllWindows()\n"
   ]
  },
  {
   "cell_type": "code",
   "execution_count": 66,
   "id": "077792fa-2f3a-47cf-8f0e-c376ed1c86d4",
   "metadata": {},
   "outputs": [],
   "source": [
    "import cv2\n",
    "import numpy as np\n",
    "import math\n",
    "\n",
    "# Tạo ảnh nền màu đỏ\n",
    "img = np.ones((400, 600, 3), dtype=np.uint8)\n",
    "img[:] = (0, 0, 255)  # Màu đỏ theo BGR\n",
    "\n",
    "# Tọa độ trung tâm và bán kính của ngôi sao\n",
    "center_x, center_y = 300, 200\n",
    "radius = 80  # Kích thước ngôi sao\n",
    "\n",
    "# Màu vàng cho ngôi sao\n",
    "star_color = (0, 255, 255)  # Màu vàng theo BGR\n",
    "\n",
    "# Hàm tính tọa độ đỉnh ngôi sao\n",
    "def get_star_points(center_x, center_y, radius):\n",
    "    points = []\n",
    "    angle_offset = -math.pi / 2  # Để đỉnh ngôi sao hướng lên trên\n",
    "    for i in range(5):\n",
    "        outer_angle = angle_offset + 2 * math.pi * i / 5  # Góc của mỗi đỉnh ngoài\n",
    "        inner_angle = outer_angle + math.pi / 5  # Góc của mỗi đỉnh trong\n",
    "\n",
    "        # Đỉnh ngoài\n",
    "        outer_x = int(center_x + radius * math.cos(outer_angle))\n",
    "        outer_y = int(center_y + radius * math.sin(outer_angle))\n",
    "\n",
    "        # Đỉnh trong (0.4 * radius)\n",
    "        inner_x = int(center_x + (radius * 0.4) * math.cos(inner_angle))\n",
    "        inner_y = int(center_y + (radius * 0.4) * math.sin(inner_angle))\n",
    "\n",
    "        points.append((outer_x, outer_y))\n",
    "        points.append((inner_x, inner_y))\n",
    "    \n",
    "    return np.array(points, np.int32)\n",
    "\n",
    "# Tính tọa độ các điểm của ngôi sao\n",
    "star_points = get_star_points(center_x, center_y, radius)\n",
    "\n",
    "# Vẽ ngôi sao lên cờ\n",
    "cv2.fillPoly(img, [star_points], star_color)\n",
    "\n",
    "# Hiển thị ảnh\n",
    "cv2.imshow('Vietnam Flag', img)\n",
    "\n",
    "# Đợi phím bấm bất kỳ để đóng cửa sổ\n",
    "cv2.waitKey(0)\n",
    "cv2.destroyAllWindows()\n"
   ]
  },
  {
   "cell_type": "code",
   "execution_count": null,
   "id": "03f9c229-8e47-485e-80df-e66b51d16fab",
   "metadata": {},
   "outputs": [],
   "source": []
  }
 ],
 "metadata": {
  "kernelspec": {
   "display_name": "Python 3 (ipykernel)",
   "language": "python",
   "name": "python3"
  },
  "language_info": {
   "codemirror_mode": {
    "name": "ipython",
    "version": 3
   },
   "file_extension": ".py",
   "mimetype": "text/x-python",
   "name": "python",
   "nbconvert_exporter": "python",
   "pygments_lexer": "ipython3",
   "version": "3.12.4"
  }
 },
 "nbformat": 4,
 "nbformat_minor": 5
}
